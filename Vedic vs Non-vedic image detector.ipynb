{
 "cells": [
  {
   "cell_type": "code",
   "execution_count": 23,
   "metadata": {},
   "outputs": [],
   "source": [
    "import cv2,os\n",
    "\n",
    "data_path='true dataset'"
   ]
  },
  {
   "cell_type": "code",
   "execution_count": 24,
   "metadata": {},
   "outputs": [
    {
     "name": "stdout",
     "output_type": "stream",
     "text": [
      "Requirement already satisfied: opencv-python in /home/shreyash/anaconda3/lib/python3.7/site-packages (4.4.0.46)\n",
      "Requirement already satisfied: numpy>=1.14.5 in /home/shreyash/anaconda3/lib/python3.7/site-packages (from opencv-python) (1.18.1)\n",
      "Note: you may need to restart the kernel to use updated packages.\n"
     ]
    }
   ],
   "source": [
    "pip install opencv-python\n"
   ]
  },
  {
   "cell_type": "code",
   "execution_count": 25,
   "metadata": {},
   "outputs": [],
   "source": [
    "categories=os.listdir(data_path)"
   ]
  },
  {
   "cell_type": "code",
   "execution_count": 26,
   "metadata": {},
   "outputs": [
    {
     "name": "stdout",
     "output_type": "stream",
     "text": [
      "{'Non-vedic dataset': 0, 'Vedic dataset': 1}\n",
      "['Non-vedic dataset', 'Vedic dataset']\n",
      "[0, 1]\n"
     ]
    }
   ],
   "source": [
    "labels=[i for i in range(len(categories))]\n",
    "\n",
    "label_dict=dict(zip(categories,labels)) \n",
    "\n",
    "print(label_dict)\n",
    "print(categories)\n",
    "print(labels)"
   ]
  },
  {
   "cell_type": "code",
   "execution_count": 27,
   "metadata": {},
   "outputs": [],
   "source": [
    "img_size=100\n",
    "data=[]\n",
    "target=[]\n",
    "\n",
    "\n",
    "for category in categories:\n",
    "    folder_path=os.path.join(data_path,category)\n",
    "    img_names=os.listdir(folder_path)\n",
    "        \n",
    "    for img_name in img_names:\n",
    "        img_path=os.path.join(folder_path,img_name)\n",
    "        img=cv2.imread(img_path)\n",
    "\n",
    "        try:\n",
    "            gray=cv2.cvtColor(img,cv2.COLOR_BGR2GRAY)           \n",
    "           \n",
    "            resized=cv2.resize(gray,(img_size,img_size))\n",
    "          \n",
    "            data.append(resized)\n",
    "            target.append(label_dict[category])\n",
    "           \n",
    "        except Exception as e:\n",
    "            print('Exception:',e)\n",
    "          "
   ]
  },
  {
   "cell_type": "code",
   "execution_count": 28,
   "metadata": {},
   "outputs": [
    {
     "name": "stdout",
     "output_type": "stream",
     "text": [
      "Requirement already satisfied: keras in /home/shreyash/anaconda3/lib/python3.7/site-packages (2.4.3)\n",
      "Requirement already satisfied: scipy>=0.14 in /home/shreyash/anaconda3/lib/python3.7/site-packages (from keras) (1.4.1)\n",
      "Requirement already satisfied: pyyaml in /home/shreyash/anaconda3/lib/python3.7/site-packages (from keras) (5.3)\n",
      "Requirement already satisfied: h5py in /home/shreyash/anaconda3/lib/python3.7/site-packages (from keras) (2.10.0)\n",
      "Requirement already satisfied: numpy>=1.9.1 in /home/shreyash/anaconda3/lib/python3.7/site-packages (from keras) (1.18.1)\n",
      "Requirement already satisfied: six in /home/shreyash/anaconda3/lib/python3.7/site-packages (from h5py->keras) (1.14.0)\n",
      "Note: you may need to restart the kernel to use updated packages.\n"
     ]
    }
   ],
   "source": [
    "pip install keras"
   ]
  },
  {
   "cell_type": "code",
   "execution_count": 29,
   "metadata": {},
   "outputs": [
    {
     "name": "stdout",
     "output_type": "stream",
     "text": [
      "Requirement already satisfied: tensorflow in /home/shreyash/anaconda3/lib/python3.7/site-packages (2.3.1)\n",
      "Requirement already satisfied: tensorboard<3,>=2.3.0 in /home/shreyash/anaconda3/lib/python3.7/site-packages (from tensorflow) (2.4.0)\n",
      "Requirement already satisfied: opt-einsum>=2.3.2 in /home/shreyash/anaconda3/lib/python3.7/site-packages (from tensorflow) (3.3.0)\n",
      "Requirement already satisfied: gast==0.3.3 in /home/shreyash/anaconda3/lib/python3.7/site-packages (from tensorflow) (0.3.3)\n",
      "Requirement already satisfied: numpy<1.19.0,>=1.16.0 in /home/shreyash/anaconda3/lib/python3.7/site-packages (from tensorflow) (1.18.1)\n",
      "Requirement already satisfied: h5py<2.11.0,>=2.10.0 in /home/shreyash/anaconda3/lib/python3.7/site-packages (from tensorflow) (2.10.0)\n",
      "Requirement already satisfied: tensorflow-estimator<2.4.0,>=2.3.0 in /home/shreyash/anaconda3/lib/python3.7/site-packages (from tensorflow) (2.3.0)\n",
      "Requirement already satisfied: wheel>=0.26 in /home/shreyash/anaconda3/lib/python3.7/site-packages (from tensorflow) (0.34.2)\n",
      "Requirement already satisfied: protobuf>=3.9.2 in /home/shreyash/anaconda3/lib/python3.7/site-packages (from tensorflow) (3.14.0)\n",
      "Requirement already satisfied: six>=1.12.0 in /home/shreyash/anaconda3/lib/python3.7/site-packages (from tensorflow) (1.14.0)\n",
      "Requirement already satisfied: grpcio>=1.8.6 in /home/shreyash/anaconda3/lib/python3.7/site-packages (from tensorflow) (1.33.2)\n",
      "Requirement already satisfied: wrapt>=1.11.1 in /home/shreyash/anaconda3/lib/python3.7/site-packages (from tensorflow) (1.11.2)\n",
      "Requirement already satisfied: google-pasta>=0.1.8 in /home/shreyash/anaconda3/lib/python3.7/site-packages (from tensorflow) (0.2.0)\n",
      "Requirement already satisfied: absl-py>=0.7.0 in /home/shreyash/anaconda3/lib/python3.7/site-packages (from tensorflow) (0.11.0)\n",
      "Requirement already satisfied: keras-preprocessing<1.2,>=1.1.1 in /home/shreyash/anaconda3/lib/python3.7/site-packages (from tensorflow) (1.1.2)\n",
      "Requirement already satisfied: astunparse==1.6.3 in /home/shreyash/anaconda3/lib/python3.7/site-packages (from tensorflow) (1.6.3)\n",
      "Requirement already satisfied: termcolor>=1.1.0 in /home/shreyash/anaconda3/lib/python3.7/site-packages (from tensorflow) (1.1.0)\n",
      "Requirement already satisfied: setuptools>=41.0.0 in /home/shreyash/anaconda3/lib/python3.7/site-packages (from tensorboard<3,>=2.3.0->tensorflow) (45.2.0.post20200210)\n",
      "Requirement already satisfied: requests<3,>=2.21.0 in /home/shreyash/anaconda3/lib/python3.7/site-packages (from tensorboard<3,>=2.3.0->tensorflow) (2.22.0)\n",
      "Requirement already satisfied: werkzeug>=0.11.15 in /home/shreyash/anaconda3/lib/python3.7/site-packages (from tensorboard<3,>=2.3.0->tensorflow) (1.0.0)\n",
      "Requirement already satisfied: google-auth<2,>=1.6.3 in /home/shreyash/anaconda3/lib/python3.7/site-packages (from tensorboard<3,>=2.3.0->tensorflow) (1.23.0)\n",
      "Requirement already satisfied: google-auth-oauthlib<0.5,>=0.4.1 in /home/shreyash/anaconda3/lib/python3.7/site-packages (from tensorboard<3,>=2.3.0->tensorflow) (0.4.2)\n",
      "Requirement already satisfied: markdown>=2.6.8 in /home/shreyash/anaconda3/lib/python3.7/site-packages (from tensorboard<3,>=2.3.0->tensorflow) (3.3.3)\n",
      "Requirement already satisfied: tensorboard-plugin-wit>=1.6.0 in /home/shreyash/anaconda3/lib/python3.7/site-packages (from tensorboard<3,>=2.3.0->tensorflow) (1.7.0)\n",
      "Requirement already satisfied: certifi>=2017.4.17 in /home/shreyash/anaconda3/lib/python3.7/site-packages (from requests<3,>=2.21.0->tensorboard<3,>=2.3.0->tensorflow) (2019.11.28)\n",
      "Requirement already satisfied: chardet<3.1.0,>=3.0.2 in /home/shreyash/anaconda3/lib/python3.7/site-packages (from requests<3,>=2.21.0->tensorboard<3,>=2.3.0->tensorflow) (3.0.4)\n",
      "Requirement already satisfied: idna<2.9,>=2.5 in /home/shreyash/anaconda3/lib/python3.7/site-packages (from requests<3,>=2.21.0->tensorboard<3,>=2.3.0->tensorflow) (2.8)\n",
      "Requirement already satisfied: urllib3!=1.25.0,!=1.25.1,<1.26,>=1.21.1 in /home/shreyash/anaconda3/lib/python3.7/site-packages (from requests<3,>=2.21.0->tensorboard<3,>=2.3.0->tensorflow) (1.25.8)\n",
      "Requirement already satisfied: pyasn1-modules>=0.2.1 in /home/shreyash/anaconda3/lib/python3.7/site-packages (from google-auth<2,>=1.6.3->tensorboard<3,>=2.3.0->tensorflow) (0.2.8)\n",
      "Requirement already satisfied: cachetools<5.0,>=2.0.0 in /home/shreyash/anaconda3/lib/python3.7/site-packages (from google-auth<2,>=1.6.3->tensorboard<3,>=2.3.0->tensorflow) (4.1.1)\n",
      "Requirement already satisfied: rsa<5,>=3.1.4; python_version >= \"3.5\" in /home/shreyash/anaconda3/lib/python3.7/site-packages (from google-auth<2,>=1.6.3->tensorboard<3,>=2.3.0->tensorflow) (4.6)\n",
      "Requirement already satisfied: requests-oauthlib>=0.7.0 in /home/shreyash/anaconda3/lib/python3.7/site-packages (from google-auth-oauthlib<0.5,>=0.4.1->tensorboard<3,>=2.3.0->tensorflow) (1.3.0)\n",
      "Requirement already satisfied: importlib-metadata; python_version < \"3.8\" in /home/shreyash/anaconda3/lib/python3.7/site-packages (from markdown>=2.6.8->tensorboard<3,>=2.3.0->tensorflow) (1.5.0)\n",
      "Requirement already satisfied: pyasn1<0.5.0,>=0.4.6 in /home/shreyash/anaconda3/lib/python3.7/site-packages (from pyasn1-modules>=0.2.1->google-auth<2,>=1.6.3->tensorboard<3,>=2.3.0->tensorflow) (0.4.8)\n",
      "Requirement already satisfied: oauthlib>=3.0.0 in /home/shreyash/anaconda3/lib/python3.7/site-packages (from requests-oauthlib>=0.7.0->google-auth-oauthlib<0.5,>=0.4.1->tensorboard<3,>=2.3.0->tensorflow) (3.1.0)\n",
      "Requirement already satisfied: zipp>=0.5 in /home/shreyash/anaconda3/lib/python3.7/site-packages (from importlib-metadata; python_version < \"3.8\"->markdown>=2.6.8->tensorboard<3,>=2.3.0->tensorflow) (2.2.0)\n",
      "Note: you may need to restart the kernel to use updated packages.\n"
     ]
    }
   ],
   "source": [
    "pip install tensorflow"
   ]
  },
  {
   "cell_type": "code",
   "execution_count": 30,
   "metadata": {},
   "outputs": [],
   "source": [
    "import numpy as np\n",
    "\n",
    "data=np.array(data)/255.0\n",
    "data=np.reshape(data,(data.shape[0],img_size,img_size,1))\n",
    "target=np.array(target)\n",
    "\n",
    "from keras.utils import np_utils\n",
    "\n",
    "new_target=np_utils.to_categorical(target)"
   ]
  },
  {
   "cell_type": "code",
   "execution_count": 31,
   "metadata": {},
   "outputs": [],
   "source": [
    "np.save('data',data)\n",
    "np.save('target',new_target)"
   ]
  },
  {
   "cell_type": "code",
   "execution_count": 32,
   "metadata": {},
   "outputs": [],
   "source": [
    "import numpy as np\n",
    "\n",
    "data=np.load('data.npy')\n",
    "target=np.load('target.npy')\n"
   ]
  },
  {
   "cell_type": "code",
   "execution_count": 33,
   "metadata": {},
   "outputs": [],
   "source": [
    "from keras.models import Sequential\n",
    "from keras.layers import Dense,Activation,Flatten,Dropout\n",
    "from keras.layers import Conv2D,MaxPooling2D\n",
    "from keras.callbacks import ModelCheckpoint\n",
    "\n",
    "model=Sequential()\n",
    "\n",
    "model.add(Conv2D(200,(3,3),input_shape=data.shape[1:]))\n",
    "model.add(Activation('relu'))\n",
    "model.add(MaxPooling2D(pool_size=(2,2)))\n",
    "\n",
    "\n",
    "model.add(Conv2D(100,(3,3)))\n",
    "model.add(Activation('relu'))\n",
    "model.add(MaxPooling2D(pool_size=(2,2)))\n",
    "\n",
    "\n",
    "model.add(Flatten())\n",
    "model.add(Dropout(0.5))\n",
    "\n",
    "model.add(Dense(50,activation='relu'))\n",
    "\n",
    "model.add(Dense(2,activation='softmax'))\n",
    "\n",
    "\n",
    "model.compile(loss='categorical_crossentropy',optimizer='adam',metrics=['accuracy'])\n"
   ]
  },
  {
   "cell_type": "code",
   "execution_count": 34,
   "metadata": {},
   "outputs": [],
   "source": [
    "from sklearn.model_selection import train_test_split\n",
    "\n",
    "train_data,test_data,train_target,test_target=train_test_split(data,target,test_size=0.1)"
   ]
  },
  {
   "cell_type": "code",
   "execution_count": 35,
   "metadata": {},
   "outputs": [
    {
     "name": "stdout",
     "output_type": "stream",
     "text": [
      "Epoch 1/20\n",
      "25/25 [==============================] - ETA: 0s - loss: 0.7541 - accuracy: 0.5373INFO:tensorflow:Assets written to: model-001.model/assets\n",
      "25/25 [==============================] - 25s 985ms/step - loss: 0.7541 - accuracy: 0.5373 - val_loss: 0.6466 - val_accuracy: 0.6513\n",
      "Epoch 2/20\n",
      "25/25 [==============================] - ETA: 0s - loss: 0.6246 - accuracy: 0.6645INFO:tensorflow:Assets written to: model-002.model/assets\n",
      "25/25 [==============================] - 24s 970ms/step - loss: 0.6246 - accuracy: 0.6645 - val_loss: 0.5754 - val_accuracy: 0.6564\n",
      "Epoch 3/20\n",
      "25/25 [==============================] - ETA: 0s - loss: 0.5471 - accuracy: 0.7301INFO:tensorflow:Assets written to: model-003.model/assets\n",
      "25/25 [==============================] - 25s 994ms/step - loss: 0.5471 - accuracy: 0.7301 - val_loss: 0.4741 - val_accuracy: 0.7795\n",
      "Epoch 4/20\n",
      "25/25 [==============================] - ETA: 0s - loss: 0.4785 - accuracy: 0.7661INFO:tensorflow:Assets written to: model-004.model/assets\n",
      "25/25 [==============================] - 25s 989ms/step - loss: 0.4785 - accuracy: 0.7661 - val_loss: 0.4712 - val_accuracy: 0.7846\n",
      "Epoch 5/20\n",
      "25/25 [==============================] - ETA: 0s - loss: 0.4979 - accuracy: 0.7609INFO:tensorflow:Assets written to: model-005.model/assets\n",
      "25/25 [==============================] - 25s 987ms/step - loss: 0.4979 - accuracy: 0.7609 - val_loss: 0.4436 - val_accuracy: 0.7897\n",
      "Epoch 6/20\n",
      "25/25 [==============================] - 24s 956ms/step - loss: 0.4037 - accuracy: 0.8265 - val_loss: 0.4779 - val_accuracy: 0.7897\n",
      "Epoch 7/20\n",
      "25/25 [==============================] - 24s 957ms/step - loss: 0.3570 - accuracy: 0.8458 - val_loss: 0.4526 - val_accuracy: 0.8103\n",
      "Epoch 8/20\n",
      "25/25 [==============================] - 24s 956ms/step - loss: 0.3330 - accuracy: 0.8689 - val_loss: 0.4718 - val_accuracy: 0.7846\n",
      "Epoch 9/20\n",
      "25/25 [==============================] - 24s 960ms/step - loss: 0.2580 - accuracy: 0.9062 - val_loss: 0.5066 - val_accuracy: 0.7744\n",
      "Epoch 10/20\n",
      "25/25 [==============================] - 24s 960ms/step - loss: 0.2207 - accuracy: 0.9242 - val_loss: 0.5363 - val_accuracy: 0.8000\n",
      "Epoch 11/20\n",
      "25/25 [==============================] - 24s 961ms/step - loss: 0.2002 - accuracy: 0.9293 - val_loss: 0.5375 - val_accuracy: 0.7692\n",
      "Epoch 12/20\n",
      "25/25 [==============================] - 24s 959ms/step - loss: 0.1784 - accuracy: 0.9319 - val_loss: 0.6107 - val_accuracy: 0.7282\n",
      "Epoch 13/20\n",
      "25/25 [==============================] - 25s 995ms/step - loss: 0.1663 - accuracy: 0.9422 - val_loss: 0.5676 - val_accuracy: 0.7641\n",
      "Epoch 14/20\n",
      "25/25 [==============================] - 24s 961ms/step - loss: 0.1523 - accuracy: 0.9434 - val_loss: 0.6704 - val_accuracy: 0.7641\n",
      "Epoch 15/20\n",
      "25/25 [==============================] - 24s 955ms/step - loss: 0.2016 - accuracy: 0.9319 - val_loss: 0.6039 - val_accuracy: 0.7590\n",
      "Epoch 16/20\n",
      "25/25 [==============================] - 24s 958ms/step - loss: 0.1152 - accuracy: 0.9537 - val_loss: 0.6752 - val_accuracy: 0.7590\n",
      "Epoch 17/20\n",
      "25/25 [==============================] - 24s 966ms/step - loss: 0.1301 - accuracy: 0.9486 - val_loss: 0.6389 - val_accuracy: 0.7641\n",
      "Epoch 18/20\n",
      "25/25 [==============================] - 24s 960ms/step - loss: 0.1020 - accuracy: 0.9704 - val_loss: 0.6727 - val_accuracy: 0.7692\n",
      "Epoch 19/20\n",
      "25/25 [==============================] - 24s 961ms/step - loss: 0.0693 - accuracy: 0.9769 - val_loss: 0.7430 - val_accuracy: 0.7744\n",
      "Epoch 20/20\n",
      "25/25 [==============================] - 24s 962ms/step - loss: 0.0797 - accuracy: 0.9756 - val_loss: 0.7355 - val_accuracy: 0.7744\n"
     ]
    }
   ],
   "source": [
    "checkpoint = ModelCheckpoint('model-{epoch:03d}.model',monitor='val_loss',verbose=0,save_best_only=True,mode='auto')\n",
    "history=model.fit(train_data,train_target,epochs=20,callbacks=[checkpoint],validation_split=0.2)\n"
   ]
  },
  {
   "cell_type": "code",
   "execution_count": 36,
   "metadata": {},
   "outputs": [
    {
     "data": {
      "image/png": "[encoded data removed]",
      "text/plain": [
       "<Figure size 432x288 with 1 Axes>"
      ]
     },
     "metadata": {
      "needs_background": "light"
     },
     "output_type": "display_data"
    }
   ],
   "source": [
    "from matplotlib import pyplot as plt\n",
    "\n",
    "plt.plot(history.history['loss'],'r',label='training loss')\n",
    "plt.plot(history.history['val_loss'],label='validation loss')\n",
    "plt.xlabel('# epochs')\n",
    "plt.ylabel('loss')\n",
    "plt.legend()\n",
    "plt.show()\n",
    "\n"
   ]
  },
  {
   "cell_type": "code",
   "execution_count": 37,
   "metadata": {},
   "outputs": [
    {
     "name": "stdout",
     "output_type": "stream",
     "text": [
      "4/4 [==============================] - 1s 158ms/step - loss: 0.5345 - accuracy: 0.8349\n",
      "[0.5344844460487366, 0.8348624110221863]\n"
     ]
    }
   ],
   "source": [
    "print(model.evaluate(test_data,test_target)) "
   ]
  },
  {
   "cell_type": "code",
   "execution_count": null,
   "metadata": {},
   "outputs": [],
   "source": []
  }
 ],
 "metadata": {
  "kernelspec": {
   "display_name": "Python 3",
   "language": "python",
   "name": "python3"
  },
  "language_info": {
   "codemirror_mode": {
    "name": "ipython",
    "version": 3
   },
   "file_extension": ".py",
   "mimetype": "text/x-python",
   "name": "python",
   "nbconvert_exporter": "python",
   "pygments_lexer": "ipython3",
   "version": "3.7.6"
  }
 },
 "nbformat": 4,
 "nbformat_minor": 4
}
