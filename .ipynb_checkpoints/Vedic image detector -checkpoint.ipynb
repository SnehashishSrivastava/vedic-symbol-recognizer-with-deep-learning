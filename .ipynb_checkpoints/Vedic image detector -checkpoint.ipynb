{
 "cells": [
  {
   "cell_type": "code",
   "execution_count": 76,
   "metadata": {},
   "outputs": [],
   "source": [
    "import cv2,os\n",
    "\n",
    "data_path='Vedic dataset'\n"
   ]
  },
  {
   "cell_type": "code",
   "execution_count": 77,
   "metadata": {},
   "outputs": [],
   "source": [
    "categories=os.(data_path)\n",
    "\n"
   ]
  },
  {
   "cell_type": "code",
   "execution_count": 78,
   "metadata": {},
   "outputs": [
    {
     "name": "stdout",
     "output_type": "stream",
     "text": [
      "{'Vedic symbols': 0, 'Vedic worshipping  device': 1}\n",
      "['Vedic symbols', 'Vedic worshipping  device']\n",
      "[0, 1]\n"
     ]
    }
   ],
   "source": [
    "labels=[i for i in range(len(categories))]\n",
    "\n",
    "label_dict=dict(zip(categories,labels)) \n",
    "\n",
    "print(label_dict)\n",
    "print(categories)\n",
    "print(labels)"
   ]
  },
  {
   "cell_type": "code",
   "execution_count": 79,
   "metadata": {},
   "outputs": [],
   "source": [
    "img_size=100\n",
    "data=[]\n",
    "target=[]\n",
    "\n",
    "\n",
    "for category in categories:\n",
    "    folder_path=os.path.join(data_path,category)\n",
    "    img_names=os.listdir(folder_path)\n",
    "        \n",
    "    for img_name in img_names:\n",
    "        img_path=os.path.join(folder_path,img_name)\n",
    "        img=cv2.imread(img_path)\n",
    "\n",
    "        try:\n",
    "            gray=cv2.cvtColor(img,cv2.COLOR_BGR2GRAY)           \n",
    "           \n",
    "            resized=cv2.resize(gray,(img_size,img_size))\n",
    "          \n",
    "            data.append(resized)\n",
    "            target.append(label_dict[category])\n",
    "           \n",
    "        except Exception as e:\n",
    "            print('Exception:',e)"
   ]
  },
  {
   "cell_type": "code",
   "execution_count": 80,
   "metadata": {},
   "outputs": [],
   "source": [
    "import numpy as np\n",
    "\n",
    "data=np.array(data)/255.0\n",
    "data=np.reshape(data,(data.shape[0],img_size,img_size,1))\n",
    "target=np.array(target)\n",
    "\n",
    "from keras.utils import np_utils\n",
    "\n",
    "new_target=np_utils.to_categorical(target)"
   ]
  },
  {
   "cell_type": "code",
   "execution_count": 83,
   "metadata": {},
   "outputs": [],
   "source": [
    "np.save('data',data)\n",
    "np.save('target',new_target)"
   ]
  },
  {
   "cell_type": "code",
   "execution_count": 84,
   "metadata": {},
   "outputs": [],
   "source": [
    "import numpy as np\n",
    "\n",
    "data=np.load('data.npy')\n",
    "target=np.load('target.npy')"
   ]
  },
  {
   "cell_type": "code",
   "execution_count": 85,
   "metadata": {},
   "outputs": [],
   "source": [
    "\n",
    "\n",
    "from keras.models import Sequential\n",
    "from keras.layers import Dense,Activation,Flatten,Dropout\n",
    "from keras.layers import Conv2D,MaxPooling2D\n",
    "from keras.callbacks import ModelCheckpoint\n",
    "\n",
    "model=Sequential()\n",
    "\n",
    "model.add(Conv2D(200,(3,3),input_shape=data.shape[1:]))\n",
    "model.add(Activation('relu'))\n",
    "model.add(MaxPooling2D(pool_size=(2,2)))\n",
    "\n",
    "\n",
    "model.add(Conv2D(100,(3,3)))\n",
    "model.add(Activation('relu'))\n",
    "model.add(MaxPooling2D(pool_size=(2,2)))\n",
    "\n",
    "\n",
    "model.add(Flatten())\n",
    "model.add(Dropout(0.6))\n",
    "\n",
    "model.add(Dense(50,activation='relu'))\n",
    "\n",
    "model.add(Dense(2,activation='softmax'))\n",
    "\n",
    "\n",
    "model.compile(loss='categorical_crossentropy',optimizer='adam',metrics=['accuracy'])\n",
    "\n"
   ]
  },
  {
   "cell_type": "code",
   "execution_count": 86,
   "metadata": {},
   "outputs": [],
   "source": [
    "from sklearn.model_selection import train_test_split\n",
    "\n",
    "train_data,test_data,train_target,test_target=train_test_split(data,target,test_size=0.1)"
   ]
  },
  {
   "cell_type": "code",
   "execution_count": 87,
   "metadata": {},
   "outputs": [
    {
     "name": "stdout",
     "output_type": "stream",
     "text": [
      "Epoch 1/12\n",
      "45/45 [==============================] - ETA: 0s - loss: 0.6816 - accuracy: 0.5580INFO:tensorflow:Assets written to: model-001.model/assets\n",
      "45/45 [==============================] - 45s 999ms/step - loss: 0.6816 - accuracy: 0.5580 - val_loss: 0.6068 - val_accuracy: 0.6742\n",
      "Epoch 2/12\n",
      "45/45 [==============================] - ETA: 0s - loss: 0.5787 - accuracy: 0.6908INFO:tensorflow:Assets written to: model-002.model/assets\n",
      "45/45 [==============================] - 46s 1s/step - loss: 0.5787 - accuracy: 0.6908 - val_loss: 0.5444 - val_accuracy: 0.7247\n",
      "Epoch 3/12\n",
      "45/45 [==============================] - ETA: 0s - loss: 0.5320 - accuracy: 0.7196INFO:tensorflow:Assets written to: model-003.model/assets\n",
      "45/45 [==============================] - 46s 1s/step - loss: 0.5320 - accuracy: 0.7196 - val_loss: 0.5414 - val_accuracy: 0.6966\n",
      "Epoch 4/12\n",
      "45/45 [==============================] - ETA: 0s - loss: 0.5157 - accuracy: 0.7393INFO:tensorflow:Assets written to: model-004.model/assets\n",
      "45/45 [==============================] - 46s 1s/step - loss: 0.5157 - accuracy: 0.7393 - val_loss: 0.4992 - val_accuracy: 0.7725\n",
      "Epoch 5/12\n",
      "45/45 [==============================] - 45s 998ms/step - loss: 0.4695 - accuracy: 0.7583 - val_loss: 0.6515 - val_accuracy: 0.6545\n",
      "Epoch 6/12\n",
      "45/45 [==============================] - 45s 997ms/step - loss: 0.4401 - accuracy: 0.7786 - val_loss: 0.5141 - val_accuracy: 0.7640\n",
      "Epoch 7/12\n",
      "45/45 [==============================] - ETA: 0s - loss: 0.3847 - accuracy: 0.8264INFO:tensorflow:Assets written to: model-007.model/assets\n",
      "45/45 [==============================] - 47s 1s/step - loss: 0.3847 - accuracy: 0.8264 - val_loss: 0.4370 - val_accuracy: 0.7865\n",
      "Epoch 8/12\n",
      "45/45 [==============================] - ETA: 0s - loss: 0.3529 - accuracy: 0.8250INFO:tensorflow:Assets written to: model-008.model/assets\n",
      "45/45 [==============================] - 45s 1s/step - loss: 0.3529 - accuracy: 0.8250 - val_loss: 0.4350 - val_accuracy: 0.7978\n",
      "Epoch 9/12\n",
      "45/45 [==============================] - ETA: 0s - loss: 0.3052 - accuracy: 0.8637INFO:tensorflow:Assets written to: model-009.model/assets\n",
      "45/45 [==============================] - 45s 1s/step - loss: 0.3052 - accuracy: 0.8637 - val_loss: 0.4182 - val_accuracy: 0.7949\n",
      "Epoch 10/12\n",
      "45/45 [==============================] - 45s 993ms/step - loss: 0.2472 - accuracy: 0.8918 - val_loss: 0.4193 - val_accuracy: 0.8287\n",
      "Epoch 11/12\n",
      "45/45 [==============================] - ETA: 0s - loss: 0.2394 - accuracy: 0.8981INFO:tensorflow:Assets written to: model-011.model/assets\n",
      "45/45 [==============================] - 45s 1s/step - loss: 0.2394 - accuracy: 0.8981 - val_loss: 0.3580 - val_accuracy: 0.8371\n",
      "Epoch 12/12\n",
      "45/45 [==============================] - 45s 989ms/step - loss: 0.2524 - accuracy: 0.8925 - val_loss: 0.3875 - val_accuracy: 0.8118\n"
     ]
    }
   ],
   "source": [
    "checkpoint = ModelCheckpoint('model-{epoch:03d}.model',monitor='val_loss',verbose=0,save_best_only=True,mode='auto')\n",
    "history=model.fit(train_data,train_target,epochs=12,callbacks=[checkpoint],validation_split=0.2)"
   ]
  },
  {
   "cell_type": "code",
   "execution_count": 88,
   "metadata": {},
   "outputs": [
    {
     "data": {
      "image/png": "[encoded data removed]",
      "text/plain": [
       "<Figure size 432x288 with 1 Axes>"
      ]
     },
     "metadata": {
      "needs_background": "light"
     },
     "output_type": "display_data"
    }
   ],
   "source": [
    "from matplotlib import pyplot as plt\n",
    "\n",
    "plt.plot(history.history['loss'],'r',label='training loss')\n",
    "plt.plot(history.history['val_loss'],label='validation loss')\n",
    "plt.xlabel('# epochs')\n",
    "plt.ylabel('loss')\n",
    "plt.legend()\n",
    "plt.show()\n"
   ]
  },
  {
   "cell_type": "code",
   "execution_count": 89,
   "metadata": {},
   "outputs": [
    {
     "name": "stdout",
     "output_type": "stream",
     "text": [
      "7/7 [==============================] - 1s 193ms/step - loss: 0.4085 - accuracy: 0.8232\n",
      "[0.40852001309394836, 0.8232323527336121]\n"
     ]
    }
   ],
   "source": [
    "print(model.evaluate(test_data,test_target))"
   ]
  },
  {
   "cell_type": "code",
   "execution_count": null,
   "metadata": {},
   "outputs": [],
   "source": []
  },
  {
   "cell_type": "code",
   "execution_count": null,
   "metadata": {},
   "outputs": [],
   "source": []
  },
  {
   "cell_type": "code",
   "execution_count": null,
   "metadata": {},
   "outputs": [],
   "source": []
  }
 ],
 "metadata": {
  "kernelspec": {
   "display_name": "Python 3",
   "language": "python",
   "name": "python3"
  },
  "language_info": {
   "codemirror_mode": {
    "name": "ipython",
    "version": 3
   },
   "file_extension": ".py",
   "mimetype": "text/x-python",
   "name": "python",
   "nbconvert_exporter": "python",
   "pygments_lexer": "ipython3",
   "version": "3.7.6"
  }
 },
 "nbformat": 4,
 "nbformat_minor": 4
}
